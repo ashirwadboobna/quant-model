{
 "cells": [
  {
   "cell_type": "markdown",
   "id": "55db46a8-bebb-435a-aa88-2dc16f27d211",
   "metadata": {},
   "source": [
    "# Put-Call Parity\n",
    "\n",
    "Put-call parity is a fundamental principle in options pricing, which establishes a risk-neutral relationship between the prices of European call and put options with the same strike price and expiration date.\n",
    "\n",
    "## Understanding Put-Call Parity\n",
    "\n",
    "Put-call parity states that:\n",
    "\n",
    "\n",
    "where:\n",
    "- `C` is the price of the European call option\n",
    "- `P` is the price of the European put option\n",
    "- `S` is the current stock price\n",
    "- `K` is the strike price of the options\n",
    "- `r` is the risk-free interest rate (annual)\n",
    "- `t` is the time to expiration (in years)\n",
    "- `e` is the base of the natural logarithm\n",
    "\n",
    "This equation implies that buying a call option and selling a put option should result in the same payoff as holding a single share of the stock, adjusted for the present value of the strike price (discounted at the risk-free rate).\n",
    "\n",
    "## Practical Applications\n",
    "\n",
    "### Arbitrage Opportunities\n",
    "\n",
    "If the put-call parity is not held (due to mispricing in the options or the underlying asset), there may be an opportunity for arbitrage. Traders can exploit this by setting up a portfolio that will have zero cost initially but will yield a positive payoff.\n",
    "\n",
    "### Hedging\n",
    "\n",
    "Put-call parity provides a framework for hedging strategies. For example, a protective put strategy can be synthesized using a call option, the underlying asset, and a bond that matures to the strike price.\n",
    "\n",
    "## Example\n",
    "\n",
    "Suppose we have:\n",
    "- Call option price (`C`): $10\n",
    "- Put option price (`P`): $5\n",
    "- Stock price (`S`): $100\n",
    "- Strike price (`K`): $100\n",
    "- Risk-free rate (`r`): 5% per year\n",
    "- Time to expiration (`t`): 1 year\n",
    "\n",
    "According to put-call parity:\n",
    "\n",
    "\n",
    "The right-hand side calculates the discounted value of the strike price, which should equal the left-hand side if the parity holds.\n",
    "\n",
    "## Conclusion\n",
    "\n",
    "Put-call parity is a key concept in financial economics that helps traders and investors understand and exploit pricing inefficiencies in the options market. It provides insights into how options are priced and how different components of the market relate to each other.\n"
   ]
  },
  {
   "cell_type": "code",
   "execution_count": 3,
   "id": "7c7c9a50-5aa3-4515-b3a6-e07c2380f42d",
   "metadata": {},
   "outputs": [],
   "source": [
    "import numpy as np\n",
    "import pandas as pd\n",
    "import matplotlib.pyplot as plt\n",
    "import math"
   ]
  },
  {
   "cell_type": "markdown",
   "id": "9b95453f-d207-4564-8007-a73368bc373e",
   "metadata": {},
   "source": [
    "## Import necessary Library for calculation of payoff calculations ##"
   ]
  },
  {
   "cell_type": "code",
   "execution_count": 4,
   "id": "81bea437-e2c4-436a-a024-fb8256049fea",
   "metadata": {},
   "outputs": [],
   "source": [
    "def call_value(K,S_T,S_0):\n",
    "    '''To calculate the value of call option on various stock prices\n",
    "    The parameters used:\n",
    "    K= Strike price selected\n",
    "    S_T= current Stock price\n",
    "    S_0= Stock price at purchase\n",
    "    Note: this excludes the premium since we are not calculating payoff in this'''\n",
    "\n",
    "    if S_T > K:\n",
    "        H = K\n",
    "        return f'option should be exercised since current stock price: {S_T} is higher than strike price: {K}, The we will exercise the option {H}'\n",
    "    else:\n",
    "        H= S_T\n",
    "        return f'Option should not be exercised at strike price :{K} since stock price: {S_T} is lesser than the strike price. The exercise value will be {H}'\n",
    "\n",
    "    \n",
    "    "
   ]
  },
  {
   "cell_type": "code",
   "execution_count": 5,
   "id": "5659295a-7320-4edb-99d7-a3e906fb8eb4",
   "metadata": {},
   "outputs": [
    {
     "data": {
      "text/plain": [
       "'option should be exercised since current stock price: 120 is higher than strike price: 100, The we will exercise the option 100'"
      ]
     },
     "execution_count": 5,
     "metadata": {},
     "output_type": "execute_result"
    }
   ],
   "source": [
    "call_value(100,120,30)"
   ]
  },
  {
   "cell_type": "code",
   "execution_count": 8,
   "id": "58a83e80-ec23-475b-ba5d-b0e4e3d715db",
   "metadata": {},
   "outputs": [],
   "source": [
    "def call_payoff(K,S_T,S_0,C_P):\n",
    "    '''To calculate the value of call option on various stock prices\n",
    "    The parameters used:\n",
    "    K= Strike price selected\n",
    "    S_T= current Stock price\n",
    "    S_0= Stock price at purchase\n",
    "    C_P= call premium'''\n",
    "\n",
    "    if S_T > K:\n",
    "        H = K+C_P\n",
    "        P = S_T -H\n",
    "        return f'option should be exercised since current stock price: {S_T} is higher than strike price: {K}, The we will exercise the option and the total cost of option will be {H}and payoff: {P}'\n",
    "    else:\n",
    "        H= S_T+C_P\n",
    "        P = S_T-H\n",
    "        return f'Option should not be exercised at strike price :{K} since stock price: {S_T} is lesser than the strike price. The exercise value will be {K}, The cost of the option will be {H} and the payoff will be {P}'"
   ]
  },
  {
   "cell_type": "code",
   "execution_count": 10,
   "id": "f753af56-b865-45fb-abf1-58e396b976c3",
   "metadata": {},
   "outputs": [
    {
     "data": {
      "text/plain": [
       "'Option should not be exercised at strike price :100 since stock price: 95 is lesser than the strike price. The exercise value will be 100, The cost of the option will be 98.68 and the payoff will be -3.680000000000007'"
      ]
     },
     "execution_count": 10,
     "metadata": {},
     "output_type": "execute_result"
    }
   ],
   "source": [
    "call_payoff(100,95,75,3.68)"
   ]
  },
  {
   "cell_type": "code",
   "execution_count": null,
   "id": "1fc5791e-c591-4cae-8c6e-4493539b820a",
   "metadata": {},
   "outputs": [],
   "source": []
  }
 ],
 "metadata": {
  "kernelspec": {
   "display_name": "Python 3 (ipykernel)",
   "language": "python",
   "name": "python3"
  },
  "language_info": {
   "codemirror_mode": {
    "name": "ipython",
    "version": 3
   },
   "file_extension": ".py",
   "mimetype": "text/x-python",
   "name": "python",
   "nbconvert_exporter": "python",
   "pygments_lexer": "ipython3",
   "version": "3.12.3"
  }
 },
 "nbformat": 4,
 "nbformat_minor": 5
}
